{
 "cells": [
  {
   "cell_type": "code",
   "execution_count": 1,
   "metadata": {},
   "outputs": [
    {
     "name": "stdout",
     "output_type": "stream",
     "text": [
      "danialin sisiwo handoyo\n",
      "I0322031\n",
      "a\n"
     ]
    }
   ],
   "source": [
    "print(input(\"Nama: \"))\n",
    "print(input(\"NIM: \"))\n",
    "print(input(\"Kelas: \"))"
   ]
  },
  {
   "attachments": {},
   "cell_type": "markdown",
   "metadata": {},
   "source": [
    "## 1."
   ]
  },
  {
   "attachments": {},
   "cell_type": "markdown",
   "metadata": {},
   "source": [
    "buatlah program sederhana untuk menghitung umur pengguna dengan ketentuan sebagai berikut :\n",
    "* Program meminta pengguna memasukan tanggal, bulan, dan tahun lahir\n",
    "* Program menghitung umur pengguna hingga tanggal 1 januari 2023\n",
    "* Program menampilkan umur dari pengguna"
   ]
  },
  {
   "cell_type": "code",
   "execution_count": 3,
   "metadata": {},
   "outputs": [
    {
     "name": "stdout",
     "output_type": "stream",
     "text": [
      "Pengguna lahir pada tanggal 20 03 2004\n",
      "Jadi, umur pengguna adalah 18 tahun\n"
     ]
    }
   ],
   "source": [
    "tanggal_lahir = int(input(\"Masukkan tanggal lahir: \"))\n",
    "bulan_lahir = str(input(\"Masukkan Bulan Lahir: \"))\n",
    "tahun_lahir = int(input(\"Masukkan Tahun Lahir: \"))\n",
    "\n",
    "#ketentuan menghitung umur pengguna hingga tgl 1 januari 2023\n",
    "if tanggal_lahir == 1:\n",
    "    if bulan_lahir == \"Januari\":\n",
    "        umur = 2023 - tahun_lahir\n",
    "else: umur = 2023 - tahun_lahir - 1\n",
    "\n",
    "#print umur\n",
    "print(\"Pengguna lahir pada tanggal\", tanggal_lahir, bulan_lahir, tahun_lahir)\n",
    "print(\"Jadi, umur pengguna adalah\", umur, \"tahun\")\n"
   ]
  },
  {
   "attachments": {},
   "cell_type": "markdown",
   "metadata": {},
   "source": [
    "## 2."
   ]
  },
  {
   "attachments": {},
   "cell_type": "markdown",
   "metadata": {},
   "source": [
    "Pada 2015, wabah flu burung menyerang Indonesia dan beberapa peternak ayam mengalami kerugian karena banyaknya ayam yang mati. Setiap bulan, jumlah ayamnya berkurang menjadi setengah. Setelah dua bulan, jumlah ayam yang tersisa adalah 200 ekor. Hitunglah jumlah ayam sebelumnya yang dimiliki peternak tersebut! (gunakan rumus deret geometri)\n",
    "\n",
    "> *note: SOAL DIATAS DIKERJAKAN SESUAI DENGAN RUMUS BAKU*"
   ]
  },
  {
   "cell_type": "code",
   "execution_count": 4,
   "metadata": {},
   "outputs": [
    {
     "ename": "SyntaxError",
     "evalue": "unmatched ')' (488088494.py, line 4)",
     "output_type": "error",
     "traceback": [
      "\u001b[1;36m  Cell \u001b[1;32mIn[4], line 4\u001b[1;36m\u001b[0m\n\u001b[1;33m    Un = U3 = 200 kh0)\u001b[0m\n\u001b[1;37m                     ^\u001b[0m\n\u001b[1;31mSyntaxError\u001b[0m\u001b[1;31m:\u001b[0m unmatched ')'\n"
     ]
    }
   ],
   "source": [
    "#masukkan input\n",
    "r  = 0.5\n",
    "n  = 3\n",
    "Un = U3 = 200 \n",
    "a  = []\n",
    "\n",
    "# ditanya suku awal (a)\n",
    "# Un = a*r**(n-1)\n",
    "\n",
    "a = Un/(r**(n-1))\n",
    "\n",
    "print(\"Jumlah ayam sebelumnya yang dimiliki oleh peternak adalah\", a, \"ekor\")"
   ]
  },
  {
   "attachments": {},
   "cell_type": "markdown",
   "metadata": {},
   "source": [
    "## 3. "
   ]
  },
  {
   "attachments": {},
   "cell_type": "markdown",
   "metadata": {},
   "source": [
    "* **A** Hitunglah luas Prisma Segitiga dengan ketentuan sebagai berikut:\n",
    "    * Alas dan tutup prisma merupakan segitiga\n",
    "    * Terdapat 3 persegi panjang yang menyinggung alas dan tutup prisma\n",
    "    * Sisi persegi panjang yang menyinggung segitiga adalah sisi lebar\n",
    "```python\n",
    "    dictionary_figure = {\"Persegi\":{\"Sisi\":22},\n",
    "                        \"Persegi Panjang\":{\"Panjang\":10,\"Lebar\":5},\n",
    "                        \"Segitiga Sama Sisi\":{\"Sisi\":6,\"Tinggi\":3**(1/2) * 3},\n",
    "                        \"Lingkaran\":{\"Diameter\":7}}\n",
    "```\n",
    "* **B** Hitunglah luas Tabung dengan ketentuan sebagai berikut:\n",
    "    * Alas dan tutup tabung merupakan lingkaran\n",
    "    * Terdapat 1 persegi yang menyinggung alas dan tutup tabung\n",
    "    * Persegi yang ada mengelilingi lingkaran hingga sisi dari persegi saling bertemu\n",
    "\n",
    "> *note: Pada soal ini kalian hanya boleh menggunakan key-value pair dan index pada list. Tidak diperbolehkan menulis secara langsung dimensi dari figure*"
   ]
  },
  {
   "cell_type": "code",
   "execution_count": 5,
   "metadata": {},
   "outputs": [
    {
     "name": "stdout",
     "output_type": "stream",
     "text": [
      "Luas permukaan prisma segitiga adalah 181.1769145362398\n",
      "Luas permukaan tabung adalah 88.0\n"
     ]
    }
   ],
   "source": [
    "dictionary_figure = {\"Persegi\":{\"Sisi\":22},\n",
    "                        \"Persegi Panjang\":{\"Panjang\":10,\"Lebar\":5},\n",
    "                        \"Segitiga Sama Sisi\":{\"Sisi\":6,\"Tinggi\":3**(1/2) * 3},\n",
    "                        \"Lingkaran\":{\"Diameter\":7}}\n",
    "\n",
    "# masukkan rumus dari dictionary\n",
    "sisisegitiga = (dictionary_figure[\"Segitiga Sama Sisi\"][\"Sisi\"])\n",
    "tinggisegitiga = (dictionary_figure[\"Segitiga Sama Sisi\"][\"Tinggi\"])\n",
    "panjang = (dictionary_figure[\"Persegi Panjang\"][\"Panjang\"])\n",
    "lebar = (dictionary_figure[\"Persegi Panjang\"][\"Lebar\"])\n",
    "diameter = (dictionary_figure[\"Lingkaran\"][\"Diameter\"])\n",
    "sisi = (dictionary_figure[\"Persegi\"][\"Sisi\"])\n",
    "\n",
    "#menghitung luas prisma\n",
    "luas_prisma = 1/2*2*sisisegitiga*tinggisegitiga+3*panjang*lebar\n",
    "print(\"Luas permukaan prisma segitiga adalah\", luas_prisma)\n",
    "\n",
    "#menghitung luas tabung\n",
    "luas_tabung = 2*22/7*(diameter*1/2)*2 + sisi*2\n",
    "print(\"Luas permukaan tabung adalah\", luas_tabung)"
   ]
  }
 ],
 "metadata": {
  "kernelspec": {
   "display_name": "Python 3",
   "language": "python",
   "name": "python3"
  },
  "language_info": {
   "codemirror_mode": {
    "name": "ipython",
    "version": 3
   },
   "file_extension": ".py",
   "mimetype": "text/x-python",
   "name": "python",
   "nbconvert_exporter": "python",
   "pygments_lexer": "ipython3",
   "version": "3.10.10"
  },
  "orig_nbformat": 4,
  "vscode": {
   "interpreter": {
    "hash": "5addf786bcd861d1ce5006f23111f8cbb206731e5b61b0a5632ba9e0252558a8"
   }
  }
 },
 "nbformat": 4,
 "nbformat_minor": 2
}
